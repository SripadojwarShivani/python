{
 "cells": [
  {
   "cell_type": "code",
   "execution_count": 7,
   "id": "7af48419",
   "metadata": {},
   "outputs": [
    {
     "name": "stdout",
     "output_type": "stream",
     "text": [
      "37_cam3.jpg\n",
      "test.jpg\n",
      "39_cam3.jpg\n",
      "lemon.jpg\n",
      "38_cam3.jpg\n",
      "coin.jpg\n",
      "hive.jpg\n"
     ]
    }
   ],
   "source": [
    "import os\n",
    "from os import listdir\n",
    " \n",
    "# get the path or directory\n",
    "folder_dir = \"/home/shivanisri/Desktop/Shivani/Sample/images\"\n",
    "for images in os.listdir(folder_dir):\n",
    " \n",
    "    # check if the image ends with png or jpg or jpeg\n",
    "    if (images.endswith(\".png\") or images.endswith(\".jpg\")\\\n",
    "        or images.endswith(\".jpeg\")):\n",
    "        # display\n",
    "        print(images)"
   ]
  },
  {
   "cell_type": "code",
   "execution_count": null,
   "id": "da7bd9f4",
   "metadata": {},
   "outputs": [],
   "source": []
  }
 ],
 "metadata": {
  "kernelspec": {
   "display_name": "Python 3 (ipykernel)",
   "language": "python",
   "name": "python3"
  },
  "language_info": {
   "codemirror_mode": {
    "name": "ipython",
    "version": 3
   },
   "file_extension": ".py",
   "mimetype": "text/x-python",
   "name": "python",
   "nbconvert_exporter": "python",
   "pygments_lexer": "ipython3",
   "version": "3.9.7"
  }
 },
 "nbformat": 4,
 "nbformat_minor": 5
}
